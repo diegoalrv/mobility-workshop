{
 "cells": [
  {
   "cell_type": "code",
   "execution_count": 1,
   "id": "557e5303",
   "metadata": {},
   "outputs": [],
   "source": [
    "from pyathena import connect\n",
    "import pandas as pd\n",
    "import os\n",
    "import warnings\n",
    "import json\n",
    "import geopandas as gpd\n",
    "from shapely.geometry import LineString\n",
    "\n",
    "warnings.filterwarnings('ignore')"
   ]
  },
  {
   "cell_type": "code",
   "execution_count": 2,
   "id": "6509180a",
   "metadata": {},
   "outputs": [],
   "source": [
    "conn = connect(\n",
    "    aws_access_key_id=os.getenv('AWS_ACCESS_KEY_ID'),\n",
    "    aws_secret_access_key=os.getenv('AWS_SECRET_ACCESS_KEY'),\n",
    "    s3_staging_dir=os.getenv('S3_STAGING_DIR'),\n",
    "    region_name=os.getenv('AWS_REGION'),\n",
    "    schema_name='waze'\n",
    ")"
   ]
  },
  {
   "cell_type": "code",
   "execution_count": null,
   "id": "622c8c8f",
   "metadata": {},
   "outputs": [],
   "source": [
    "# schema_name = 'gtfs'\n",
    "\n",
    "# # Query the list of tables in the 'gtfs' database\n",
    "# # list_of_tables = pd.read_sql(\"SHOW TABLES;\", conn)\n",
    "\n",
    "# tables = ['routes', 'stops']\n",
    "\n",
    "# for table in tables:\n",
    "#     table_filename = os.path.join(os.getcwd(), 'data', f'gtfs_{table}.parquet')\n",
    "#     if not os.path.exists(table_filename):\n",
    "#         df = pd.read_sql(f\"SELECT * FROM {table};\", conn)\n",
    "#         df.to_parquet(table_filename)\n",
    "#     else:\n",
    "#         df = pd.read_parquet(table_filename)"
   ]
  }
 ],
 "metadata": {
  "kernelspec": {
   "display_name": ".venv",
   "language": "python",
   "name": "python3"
  },
  "language_info": {
   "codemirror_mode": {
    "name": "ipython",
    "version": 3
   },
   "file_extension": ".py",
   "mimetype": "text/x-python",
   "name": "python",
   "nbconvert_exporter": "python",
   "pygments_lexer": "ipython3",
   "version": "3.10.18"
  }
 },
 "nbformat": 4,
 "nbformat_minor": 5
}
