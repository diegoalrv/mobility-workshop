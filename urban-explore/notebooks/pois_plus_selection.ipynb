{
 "cells": [
  {
   "cell_type": "code",
   "execution_count": 1,
   "id": "d318c57c",
   "metadata": {},
   "outputs": [],
   "source": [
    "import osmnx as ox\n",
    "import geopandas as gpd\n",
    "import pandas as pd\n",
    "\n",
    "# --- Parámetros ---\n",
    "roi = gpd.read_file('./data/area_mobility_workshop')\n",
    "# Diccionario de categorías de OSM para cada perfil\n",
    "profiles_pois = {\n",
    "    \"elderly\": {\n",
    "        \"residential\": [\"residential\"],\n",
    "        \"grocery_store\": [\"supermarket\", \"convenience\", \"marketplace\"],\n",
    "        \"plaza\": [\"square\", \"park\"]\n",
    "    },\n",
    "    \"student\": {\n",
    "        \"university\": [\"university\", \"college\", \"school\"],\n",
    "        \"pub\": [\"pub\", \"bar\", \"nightclub\"],\n",
    "        \"gym\": [\"gym\", \"fitness_centre\", \"sports_centre\"]\n",
    "    },\n",
    "    \"office_worker\": {\n",
    "        \"office\": [\"office\", \"commercial\"],\n",
    "        \"restaurant\": [\"restaurant\", \"cafe\", \"fast_food\"],\n",
    "        \"residential\": [\"residential\"]\n",
    "    },\n",
    "    \"tourist\": {\n",
    "        \"tourist_places\": [\"museum\", \"art_gallery\", \"viewpoint\", \"attraction\", \"monument\", \"historic\", \"tourism\"]\n",
    "    },\n",
    "    \"families\": {\n",
    "        \"park\": [\"park\", \"playground\", \"garden\"],\n",
    "        \"school\": [\"school\", \"kindergarten\"],\n",
    "        \"residential\": [\"residential\"]\n",
    "    },\n",
    "    \"shop_owner\": {\n",
    "        \"residential\": [\"residential\"],\n",
    "        \"market\": [\"marketplace\", \"supermarket\", \"convenience\"],\n",
    "        \"storefront\": [\"shop\"]\n",
    "    }\n",
    "}"
   ]
  },
  {
   "cell_type": "code",
   "execution_count": 2,
   "id": "00eef979",
   "metadata": {},
   "outputs": [
    {
     "name": "stdout",
     "output_type": "stream",
     "text": [
      "✅ Re-etiquetación lista. Total filas: 831\n",
      "  main_category    category amenity         shop leisure tourism sport\n",
      "0    storefront  storefront    None          art    None    None  None\n",
      "1    storefront  storefront    None       pastry    None    None  None\n",
      "2    storefront  storefront    None  convenience    None    None  None\n",
      "3    storefront  storefront    None  convenience    None    None  None\n",
      "4    storefront  storefront    None  supermarket    None    None  None\n"
     ]
    }
   ],
   "source": [
    "import geopandas as gpd\n",
    "\n",
    "# Cargar tu archivo exportado previamente\n",
    "gdf = gpd.read_file(\"./data/pois.gpkg\", layer=\"pois\")\n",
    "\n",
    "# Definir categorías y reglas de mapeo\n",
    "category_rules = {\n",
    "    \"storefront\": {\"shop\": True},\n",
    "    \"university\": {\"amenity\": \"university\"},\n",
    "    \"cafe\": {\"amenity\": \"cafe\"},\n",
    "    \"grocery_store\": {\"shop\": [\"supermarket\", \"convenience\"], \"amenity\": \"marketplace\"},\n",
    "    \"restaurant\": {\"amenity\": \"restaurant\"},\n",
    "    \"market\": {\"amenity\": \"marketplace\"},\n",
    "    \"residential\": {\"building\": \"residential\", \"landuse\": \"residential\"},\n",
    "    \"pub\": {\"amenity\": \"pub\"},\n",
    "    \"tourist_places\": {\"tourism\": [\"attraction\", \"museum\", \"viewpoint\"]},\n",
    "    \"park\": {\"leisure\": \"park\"},\n",
    "    \"school\": {\"amenity\": \"school\"},\n",
    "    \"office\": {\"office\": True},\n",
    "    \"plaza\": {\"leisure\": \"plaza\", \"amenity\": \"town_square\"},\n",
    "    \"gym\": {\"amenity\": \"gym\", \"leisure\": \"fitness_centre\", \"sport\": [\"fitness\", \"gymnastics\"]},\n",
    "}\n",
    "\n",
    "# Función para asignar categoría\n",
    "def assign_category(row):\n",
    "    for cat, rules in category_rules.items():\n",
    "        for key, values in rules.items():\n",
    "            if key not in row or pd.isna(row.get(key)):\n",
    "                continue\n",
    "            val = row.get(key)\n",
    "            if values is True:  # Cualquier valor sirve\n",
    "                return cat\n",
    "            if isinstance(values, list) and val in values:\n",
    "                return cat\n",
    "            if val == values:\n",
    "                return cat\n",
    "    return None\n",
    "\n",
    "# Crear nueva columna\n",
    "gdf[\"category\"] = gdf.apply(assign_category, axis=1)\n",
    "\n",
    "# Si alguna quedó sin categoría, usa la columna main_category original como fallback\n",
    "gdf[\"category\"] = gdf[\"category\"].fillna(gdf.get(\"main_category\"))\n",
    "\n",
    "# Exportar resultado\n",
    "gdf.to_file(\"./data/pois_categorizados.gpkg\", layer=\"pois\", driver=\"GPKG\")\n",
    "gdf.to_file(\"./data/pois_categorizados.geojson\", driver=\"GeoJSON\")\n",
    "\n",
    "print(f\"✅ Re-etiquetación lista. Total filas: {len(gdf)}\")\n",
    "print(gdf[[\"main_category\", \"category\", \"amenity\", \"shop\", \"leisure\", \"tourism\", \"sport\"]].head())\n"
   ]
  },
  {
   "cell_type": "code",
   "execution_count": 3,
   "id": "9c5c51da",
   "metadata": {},
   "outputs": [],
   "source": [
    "gdf_points = gdf[gdf.geometry.type == 'Point'].copy()\n",
    "gdf_points_filtered = gdf_points[gdf_points['category'].notna()].copy()\n",
    "gdf_points_filtered = gpd.overlay(gdf_points_filtered, roi, how='intersection')"
   ]
  },
  {
   "cell_type": "code",
   "execution_count": 4,
   "id": "4f336f2d",
   "metadata": {},
   "outputs": [],
   "source": [
    "gdf_polygons = gdf[gdf.geometry.type.isin(['Polygon', 'MultiPolygon'])].copy()\n",
    "gdf_polygons_filtered = gdf_polygons[gdf_polygons['category'].notna()].copy()\n",
    "gdf_polygons_filtered = gpd.overlay(gdf_polygons_filtered, roi, how='intersection')"
   ]
  },
  {
   "cell_type": "code",
   "execution_count": 5,
   "id": "f52b5dee",
   "metadata": {},
   "outputs": [],
   "source": [
    "gdf_filtered = pd.concat([gdf_points_filtered, gdf_polygons_filtered], ignore_index=True)\n",
    "gdf_filtered = gpd.GeoDataFrame(gdf_filtered, geometry='geometry', crs=gdf.crs)"
   ]
  },
  {
   "cell_type": "code",
   "execution_count": 6,
   "id": "7d7d836c",
   "metadata": {},
   "outputs": [],
   "source": [
    "gdf_filtered.to_parquet(\"./data/pois_categorizados_filtrados.parquet\", index=False)"
   ]
  },
  {
   "cell_type": "code",
   "execution_count": 8,
   "id": "128e75b2",
   "metadata": {},
   "outputs": [
    {
     "data": {
      "text/plain": [
       "category\n",
       "storefront        451\n",
       "office            128\n",
       "restaurant         74\n",
       "residential        45\n",
       "cafe               38\n",
       "school             26\n",
       "pub                23\n",
       "university         13\n",
       "park               13\n",
       "gym                 9\n",
       "tourist_places      7\n",
       "grocery_store       4\n",
       "Name: count, dtype: int64"
      ]
     },
     "execution_count": 8,
     "metadata": {},
     "output_type": "execute_result"
    }
   ],
   "source": [
    "gdf_filtered['category'].value_counts()"
   ]
  }
 ],
 "metadata": {
  "kernelspec": {
   "display_name": ".venv",
   "language": "python",
   "name": "python3"
  },
  "language_info": {
   "codemirror_mode": {
    "name": "ipython",
    "version": 3
   },
   "file_extension": ".py",
   "mimetype": "text/x-python",
   "name": "python",
   "nbconvert_exporter": "python",
   "pygments_lexer": "ipython3",
   "version": "3.10.18"
  }
 },
 "nbformat": 4,
 "nbformat_minor": 5
}
