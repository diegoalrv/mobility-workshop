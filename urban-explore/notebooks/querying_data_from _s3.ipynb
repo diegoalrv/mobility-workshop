{
 "cells": [
  {
   "cell_type": "code",
   "execution_count": 1,
   "id": "8ed89071",
   "metadata": {},
   "outputs": [
    {
     "name": "stdout",
     "output_type": "stream",
     "text": [
      "Leyendo datos desde: s3://clbb/DatosBrutos/turismo/tourism_pois_biobio_final.csv\n"
     ]
    }
   ],
   "source": [
    "import os\n",
    "from dotenv import load_dotenv\n",
    "import pandas as pd\n",
    "\n",
    "# Carga las variables de entorno desde ../.env\n",
    "load_dotenv(dotenv_path='../.env')\n",
    "\n",
    "# Obtiene las credenciales de AWS desde las variables de entorno\n",
    "aws_access_key_id = os.getenv('AWS_ACCESS_KEY_ID')\n",
    "aws_secret_access_key = os.getenv('AWS_SECRET_ACCESS_KEY')\n",
    "aws_session_token = os.getenv('AWS_SESSION_TOKEN')  # Opcional\n",
    "\n",
    "# Configura el endpoint y el bucket/archivo\n",
    "s3_bucket = os.getenv('S3_BUCKET')\n",
    "s3_key = 'DatosBrutos/turismo/tourism_pois_biobio_final.csv'\n",
    "\n",
    "# Construye la URL de S3\n",
    "s3_url = f's3://{s3_bucket}/{s3_key}'\n",
    "print(f'Leyendo datos desde: {s3_url}')\n",
    "\n",
    "# Lee el CSV desde S3 usando pandas y s3fs\n",
    "storage_options = {\n",
    "    'key': aws_access_key_id,\n",
    "    'secret': aws_secret_access_key,\n",
    "}\n",
    "if aws_session_token:\n",
    "    storage_options['token'] = aws_session_token\n",
    "\n",
    "df = pd.read_csv(s3_url, storage_options=storage_options)\n",
    "\n",
    "df.to_parquet('./data/tourism_pois_biobio_final.parquet', index=False)"
   ]
  }
 ],
 "metadata": {
  "kernelspec": {
   "display_name": ".venv",
   "language": "python",
   "name": "python3"
  },
  "language_info": {
   "codemirror_mode": {
    "name": "ipython",
    "version": 3
   },
   "file_extension": ".py",
   "mimetype": "text/x-python",
   "name": "python",
   "nbconvert_exporter": "python",
   "pygments_lexer": "ipython3",
   "version": "3.10.18"
  }
 },
 "nbformat": 4,
 "nbformat_minor": 5
}
