{
 "cells": [
  {
   "cell_type": "code",
   "execution_count": 1,
   "id": "76def8a8",
   "metadata": {},
   "outputs": [],
   "source": [
    "import pandas as pd\n",
    "import geopandas as gpd\n",
    "\n",
    "# Leer el archivo .parquet de turismo en la carpeta ./data\n",
    "parquet_path = './data/tourism_pois_biobio_final.parquet'\n",
    "df_turismo = pd.read_parquet(parquet_path)\n",
    "\n",
    "# Convertir el DataFrame a un GeoDataFrame\n",
    "gdf_turismo = gpd.GeoDataFrame(df_turismo, geometry=gpd.points_from_xy(df_turismo.lng, df_turismo.lat))\n",
    "gdf_turismo.set_crs(epsg=4326, inplace=True)\n",
    "pass"
   ]
  },
  {
   "cell_type": "code",
   "execution_count": 2,
   "id": "31aaaac2",
   "metadata": {},
   "outputs": [],
   "source": [
    "roi = gpd.read_file('./data/area_mobility_workshop')"
   ]
  },
  {
   "cell_type": "code",
   "execution_count": 3,
   "id": "c23d5f5c",
   "metadata": {},
   "outputs": [],
   "source": [
    "roi.to_file('./app/static/geometries/area_mobility_workshop.geojson', driver='GeoJSON')"
   ]
  },
  {
   "cell_type": "code",
   "execution_count": 13,
   "id": "f7ee9917",
   "metadata": {},
   "outputs": [],
   "source": [
    "pois = gpd.overlay(gdf_turismo, roi, how='intersection')"
   ]
  },
  {
   "cell_type": "code",
   "execution_count": 14,
   "id": "cf5ded7a",
   "metadata": {},
   "outputs": [
    {
     "data": {
      "text/plain": [
       "sub_category\n",
       "restaurant                 45\n",
       "mall                       43\n",
       "hotel                      20\n",
       "cafe                       20\n",
       "hostel                     14\n",
       "apartment                   5\n",
       "store                       3\n",
       "bar                         2\n",
       "museum                      2\n",
       "park                        2\n",
       "terminal                    2\n",
       "bakery                      1\n",
       "art_gallery                 1\n",
       "local_government_office     1\n",
       "station                     1\n",
       "Name: count, dtype: int64"
      ]
     },
     "execution_count": 14,
     "metadata": {},
     "output_type": "execute_result"
    }
   ],
   "source": [
    "pois['sub_category'].value_counts()"
   ]
  },
  {
   "cell_type": "code",
   "execution_count": null,
   "id": "390cdea6",
   "metadata": {},
   "outputs": [],
   "source": []
  }
 ],
 "metadata": {
  "kernelspec": {
   "display_name": ".venv",
   "language": "python",
   "name": "python3"
  },
  "language_info": {
   "codemirror_mode": {
    "name": "ipython",
    "version": 3
   },
   "file_extension": ".py",
   "mimetype": "text/x-python",
   "name": "python",
   "nbconvert_exporter": "python",
   "pygments_lexer": "ipython3",
   "version": "3.10.18"
  }
 },
 "nbformat": 4,
 "nbformat_minor": 5
}
